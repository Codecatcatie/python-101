{
 "cells": [
  {
   "cell_type": "code",
   "execution_count": null,
   "id": "d9e37f0c-5190-4397-b582-d526eb834760",
   "metadata": {},
   "outputs": [],
   "source": [
    "a = [1, 4, 9, 16, 25, 36, 49, 64, 81, 100]\n",
    "a2  = [number for number in a if number % 2 == 0]\n"
   ]
  },
  {
   "cell_type": "code",
   "execution_count": null,
   "id": "d7b7b506-9b9b-41ad-81f4-800158ddf91a",
   "metadata": {},
   "outputs": [],
   "source": [
    "def winner(p1,p2):\n",
    "    if p1 == p2:\n",
    "        return(\"It's a tie!\")\n",
    "    elif p1 == 'r':\n",
    "        if p2 == 's':\n",
    "            return(F\"Rock wins!Congratulations player {player1}\")\n",
    "        else:\n",
    "            return(F\"Paper wins!Congratulations player {player2}\")\n",
    "    elif p1 == 's':\n",
    "        if p2 == 'p':\n",
    "            return( F\"Scissors wins!Congratulations player {player1}\")\n",
    "        else:\n",
    "            return(F\"Rock wins!Congratulations player {player2}\")\n",
    "    elif p1 == 'p':\n",
    "        if p2 == 'r':\n",
    "            return(F\"Paper wins!Congratulations player {player1}\")\n",
    "        else:\n",
    "            return(F\"Scissors wins! Congratulations player {player2}\") \n",
    "    else:\n",
    "        return(\"Invalid input! You have not entered rock, paper or scissors, try again.\")"
   ]
  },
  {
   "cell_type": "code",
   "execution_count": null,
   "id": "b86092b3-2a33-4197-aa7d-5bc22596d00a",
   "metadata": {},
   "outputs": [],
   "source": [
    "start = input(\"if you wish to continue with the with the game input a, if you wish to leave the game then enter b \" )\n",
    "while start == \"a\":\n",
    "    player1 = input(\"What's your name?\")\n",
    "    player2 = input(\"And your name?\")\n",
    "    anwser1 = input(f\"input your choice r/p/s {player1}\")\n",
    "    anwser2 = input(f\"input your choice r/p/s {player2}\")\n",
    "\n",
    "    print(winner(anwser1, anwser2))\n",
    "    start = input(\"if you wish to continue with the with the game input a, if you wish to leave the game then enter b \" )"
   ]
  },
  {
   "cell_type": "code",
   "execution_count": null,
   "id": "d49eb134-4b8d-4bc2-a405-dc09309a96a1",
   "metadata": {},
   "outputs": [],
   "source": [
    "import random\n",
    "start = input(\"if you wish to continue with the with the game input a, if you wish to leave the game then enter b \" )\n",
    "while start == 1:\n",
    "start = input(\"if you wish to continue with the with the game input a, if you wish to leave the game then enter b \" )\n",
    "while start == \"a\":\n",
    "\n",
    "n = random.randint(1,9)\n",
    "guess = 0\n",
    "c = 0\n",
    "while guess != rd and guess != \"exit\":\n",
    "    guess = input(\"Enter a guess between 1 to 9\")\n",
    "\n",
    "    if guess == \"exit\":\n",
    "        break\n",
    "\n",
    "    guess = int(guess)\n",
    "    c += 1\n",
    "\n",
    "    if guess < rd:\n",
    "        print(\"Too low\")\n",
    "    elif guess > rd:\n",
    "        print(\"Too high\")\n",
    "    else:\n",
    "        print(\"Right!\")\n",
    "        print(\"You took only\", c, \"tries!\")\n",
    "input()"
   ]
  }
 ],
 "metadata": {
  "kernelspec": {
   "display_name": "Python 3 (ipykernel)",
   "language": "python",
   "name": "python3"
  },
  "language_info": {
   "codemirror_mode": {
    "name": "ipython",
    "version": 3
   },
   "file_extension": ".py",
   "mimetype": "text/x-python",
   "name": "python",
   "nbconvert_exporter": "python",
   "pygments_lexer": "ipython3",
   "version": "3.9.6"
  }
 },
 "nbformat": 4,
 "nbformat_minor": 5
}

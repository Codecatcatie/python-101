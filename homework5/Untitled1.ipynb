{
 "cells": [
  {
   "cell_type": "code",
   "execution_count": null,
   "id": "eef04e03-14ff-4edc-bf7a-04e40c3c6a7a",
   "metadata": {},
   "outputs": [],
   "source": [
    "a = [1, 4, 9, 16, 25, 36, 49, 64, 81, 100]\n",
    "b = [number for number in a if number % 2 == 0]"
   ]
  },
  {
   "cell_type": "code",
   "execution_count": null,
   "id": "e14fedb2-f6bd-48f7-98e9-afd720cda28f",
   "metadata": {},
   "outputs": [
    {
     "name": "stdin",
     "output_type": "stream",
     "text": [
      "if you wish to continue with the with the game input 1, if you wish to leave the game then enter 0  1\n",
      "What's your name? kat\n",
      "And your name? ie\n",
      "input you choice r/p/s kat r\n",
      "input you choice r/p/s ie r\n"
     ]
    },
    {
     "name": "stdout",
     "output_type": "stream",
     "text": [
      "It's a tie!\n"
     ]
    },
    {
     "name": "stdin",
     "output_type": "stream",
     "text": [
      "What's your name? 0\n"
     ]
    }
   ],
   "source": []
  },
  {
   "cell_type": "code",
   "execution_count": null,
   "id": "611c7f01-c71c-4f65-83ff-8f301bd0e1ab",
   "metadata": {},
   "outputs": [],
   "source": [
    "start = input(\"if you wish to continue with the with the game input a, if you wish to leave the game then enter b \" )\n",
    "while start == \"a\":\n",
    "    player1 = input(\"What's your name?\")\n",
    "    player2 = input(\"And your name?\")\n",
    "    anwser1 = input(f\"input your choice r/p/s {player1}\")\n",
    "    anwser2 = input(f\"input your choice r/p/s {player2}\")\n",
    "    def winner(p1,p2):\n",
    "        if p1 == p2:\n",
    "            return(\"It's a tie!\")\n",
    "        elif p1 == 'r':\n",
    "            if p2 == 's':\n",
    "                return(F\"Rock wins!Congratulations player {player1}\")\n",
    "            else:\n",
    "                return(F\"Paper wins!Congratulations player {player2}\")\n",
    "        elif p1 == 's':\n",
    "            if p2 == 'p':\n",
    "                return( F\"Scissors wins!Congratulations player {player1}\")\n",
    "            else:\n",
    "                return(F\"Rock wins!Congratulations player {player2}\")\n",
    "        elif p1 == 'p':\n",
    "            if p2 == 'r':\n",
    "                return(F\"Paper wins!Congratulations player {player1}\")\n",
    "            else:\n",
    "                return(F\"Scissors wins! Congratulations player {player2}\") \n",
    "        else:\n",
    "            return(\"Invalid input! You have not entered rock, paper or scissors, try again.\")\n",
    "\n",
    "    print(winner(anwser1,anwser2))\n",
    "    start = input(\"if you wish to continue with the with the game input a, if you wish to leave the game then enter b \" )"
   ]
  },
  {
   "cell_type": "code",
   "execution_count": null,
   "id": "5e0b7325-a276-46a5-8f8f-a17525cb1b2e",
   "metadata": {},
   "outputs": [],
   "source": [
    "import random\n",
    "start = input(\"if you wish to continue with the with the game input a, if you wish to leave the game then enter b \" )\n",
    "while start == 1:\n",
    "start = input(\"if you wish to continue with the with the game input a, if you wish to leave the game then enter b \" )\n",
    "while start == \"a\":\n",
    "\n",
    "n = random.randint(1,9)\n",
    "guess = 0\n",
    "c = 0\n",
    "while guess != rd and guess != \"exit\":\n",
    "    guess = input(\"Enter a guess between 1 to 9\")\n",
    "\n",
    "    if guess == \"exit\":\n",
    "        break\n",
    "\n",
    "    guess = int(guess)\n",
    "    c += 1\n",
    "\n",
    "    if guess < rd:\n",
    "        print(\"Too low\")\n",
    "    elif guess > rd:\n",
    "        print(\"Too high\")\n",
    "    else:\n",
    "        print(\"Right!\")\n",
    "        print(\"You took only\", c, \"tries!\")\n",
    "input()"
   ]
  }
 ],
 "metadata": {
  "kernelspec": {
   "display_name": "Python 3 (ipykernel)",
   "language": "python",
   "name": "python3"
  },
  "language_info": {
   "codemirror_mode": {
    "name": "ipython",
    "version": 3
   },
   "file_extension": ".py",
   "mimetype": "text/x-python",
   "name": "python",
   "nbconvert_exporter": "python",
   "pygments_lexer": "ipython3",
   "version": "3.12.1"
  }
 },
 "nbformat": 4,
 "nbformat_minor": 5
}

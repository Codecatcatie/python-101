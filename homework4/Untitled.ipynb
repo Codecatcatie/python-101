{
 "cells": [
  {
   "cell_type": "code",
   "execution_count": null,
   "id": "d9e37f0c-5190-4397-b582-d526eb834760",
   "metadata": {},
   "outputs": [],
   "source": [
    "a = [1, 4, 9, 16, 25, 36, 49, 64, 81, 100]\n",
    "a2  = [number for number in a if number % 2 == 0]\n"
   ]
  },
  {
   "cell_type": "code",
   "execution_count": null,
   "id": "b86092b3-2a33-4197-aa7d-5bc22596d00a",
   "metadata": {},
   "outputs": [],
   "source": [
    "\"\"\"exercise 8\"\"\"\n",
    "\n",
    "\n",
    "\n",
    "if u1 == u2:\n",
    "        print(\"It's a tie!\")\n",
    "    elif u1 == 'rock':\n",
    "        if u2 == 'scissors':\n",
    "            print(\"Rock wins!\")\n",
    "        else:\n",
    "            print(\"Paper wins!\")\n",
    "    elif u1 == 'scissors':\n",
    "        if u2 == 'paper':\n",
    "            print(\"Scissors win!\")\n",
    "        else:\n",
    "            return(\"Rock wins!\")\n",
    "    elif u1 == 'paper':\n",
    "        if u2 == 'rock':\n",
    "            return(\"Paper wins!\")\n",
    "        else:\n",
    "            return(\"Scissors win!\")"
   ]
  }
 ],
 "metadata": {
  "kernelspec": {
   "display_name": "Python 3 (ipykernel)",
   "language": "python",
   "name": "python3"
  },
  "language_info": {
   "codemirror_mode": {
    "name": "ipython",
    "version": 3
   },
   "file_extension": ".py",
   "mimetype": "text/x-python",
   "name": "python",
   "nbconvert_exporter": "python",
   "pygments_lexer": "ipython3",
   "version": "3.12.1"
  }
 },
 "nbformat": 4,
 "nbformat_minor": 5
}

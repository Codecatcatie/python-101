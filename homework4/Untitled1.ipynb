{
 "cells": [
  {
   "cell_type": "code",
   "execution_count": null,
   "id": "eef04e03-14ff-4edc-bf7a-04e40c3c6a7a",
   "metadata": {},
   "outputs": [],
   "source": [
    "a = [1, 4, 9, 16, 25, 36, 49, 64, 81, 100]\n",
    "b = [number for number in a if number % 2 == 0]"
   ]
  },
  {
   "cell_type": "code",
   "execution_count": null,
   "id": "e14fedb2-f6bd-48f7-98e9-afd720cda28f",
   "metadata": {},
   "outputs": [],
   "source": [
    "player1 = input(\"What's your name?\")\n",
    "player2 = input(\"And your name?\")\n",
    "anwser1 = input(f\"input you choice r/p/s {player1}\")\n",
    "anwser2 = input(f\"input you choice r/p/s {player2}\")\n",
    "start = input(\"if you wish to continue with the with the game input 1, if you wish to leave the game then enter 0 \" )\n",
    "def winner(p1,p2):\n",
    "    if p1 == p2:\n",
    "        return(\"It's a tie!\")\n",
    "    elif p1 == 'r':\n",
    "        if p2 == 's':\n",
    "            return(F\"Rock wins!Congratulations player {player1}\")\n",
    "        else:\n",
    "            return(F\"Paper wins!Congratulations player {player2}\")\n",
    "    elif p1 == 's':\n",
    "        if p2 == 'p':\n",
    "            return( F\"Scissors wins!Congratulations player {player1}\")\n",
    "        else:\n",
    "            return(F\"Rock wins!Congratulations player {player2}\")\n",
    "    elif p1 == 'p':\n",
    "        if p2 == 'r':\n",
    "            return(F\"Paper wins!Congratulations player {player1}\")\n",
    "        else:\n",
    "            return(F\"Scissors wins! Congratulations player {player2}\") \n",
    "    else:\n",
    "        return(\"Invalid input! You have not entered rock, paper or scissors, try again.\")\n",
    "\n",
    "print(winner(anwser1,anwser2))\n",
    "start = input(\"if you wish to continue with the with the game input 1, if you wish to leave the game then enter 0 \" )"
   ]
  }
 ],
 "metadata": {
  "kernelspec": {
   "display_name": "Python 3 (ipykernel)",
   "language": "python",
   "name": "python3"
  },
  "language_info": {
   "codemirror_mode": {
    "name": "ipython",
    "version": 3
   },
   "file_extension": ".py",
   "mimetype": "text/x-python",
   "name": "python",
   "nbconvert_exporter": "python",
   "pygments_lexer": "ipython3",
   "version": "3.12.1"
  }
 },
 "nbformat": 4,
 "nbformat_minor": 5
}

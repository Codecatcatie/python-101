{
 "cells": [
  {
   "cell_type": "code",
   "execution_count": 1,
   "id": "98a1d067-4d61-4a05-8c28-94062be90def",
   "metadata": {},
   "outputs": [],
   "source": [
    "ice_cream_rating = 8\n",
    "sleeping_rating = 7"
   ]
  },
  {
   "cell_type": "code",
   "execution_count": 2,
   "id": "7dc7e90a-fc7a-45e3-9781-928424f5682a",
   "metadata": {},
   "outputs": [],
   "source": [
    "ice_cream_rating = 8\n",
    "sleeping_rating = 7\n",
    "first_name = \"Katie\"\n",
    "last_name = \"Golovleva\"\n",
    "my_name = first_name,last_name\n"
   ]
  },
  {
   "cell_type": "code",
   "execution_count": 6,
   "id": "a6a42c0b-83cb-4b56-b6b7-a876c4424556",
   "metadata": {},
   "outputs": [
    {
     "name": "stdout",
     "output_type": "stream",
     "text": [
      "My name is Dave and I give eating ice cream a score of 8 out of 10! \n",
      "\n",
      " I am Katie Golovleva and my sleeping enjoyment rating is 7\n",
      "Based on the factors above, my happiness rating is 7.5 / 10 or 75.0%\n"
     ]
    }
   ],
   "source": [
    "ice_cream_rating = 8\n",
    "sleeping_rating = 7\n",
    "first_name = \"Katie\"\n",
    "last_name = \"Golovleva\"\n",
    "my_name = first_name + \" \" + last_name\n",
    "happiness_rating = ( ice_cream_rating + sleeping_rating ) / 2\n",
    "percentage = happiness_rating * 10 \n",
    "print(\"My name is\" , my_name, \"and I give eating ice cream a score of\",ice_cream_rating, \"out of 10! \") \n",
    "print(\"\\n I am\",my_name,\"and my sleeping enjoyment rating is\",sleeping_rating)\n",
    "print(\"Based on the factors above, my happiness rating is\",happiness_rating,\"/ 10 or\", percentage, \"%\")"
   ]
  },
  {
   "cell_type": "code",
   "execution_count": 8,
   "id": "1de5c867-ca1d-4ee4-b2b2-9f183a752fa3",
   "metadata": {},
   "outputs": [
    {
     "name": "stdout",
     "output_type": "stream",
     "text": [
      "My name is Dave and I give eating ice cream a score of 8 out of 10!\n",
      "I am ('Katie', 'Golovleva') and my sleeping enjoyment rating is 7\n",
      "Based on the factors above, my happiness rating is 7.5\n"
     ]
    }
   ],
   "source": [
    "\n",
    "ice_cream_rating = 8\n",
    "sleeping_rating = 7\n",
    "first_name = \"Katie\"\n",
    "last_name = \"Golovleva\"\n",
    "my_name = first_name,last_name\n",
    "happiness_rating = (ice_cream_rating + sleeping_rating)/2\n",
    "text_1 = f\"My name is Dave and I give eating ice cream a score of {ice_cream_rating} out of 10!\"\n",
    "text_2 = f\"I am {my_name} and my sleeping enjoyment rating is {sleeping_rating}\"\n",
    "text_3 = f\"Based on the factors above, my happiness rating is {happiness_rating}\"\n",
    "print(text_1)\n",
    "print(text_2)\n",
    "print(text_3)"
   ]
  },
  {
   "cell_type": "code",
   "execution_count": null,
   "id": "b9399a5f-956f-4272-afea-0c9571b6b86f",
   "metadata": {},
   "outputs": [],
   "source": []
  }
 ],
 "metadata": {
  "kernelspec": {
   "display_name": "Python 3 (ipykernel)",
   "language": "python",
   "name": "python3"
  },
  "language_info": {
   "codemirror_mode": {
    "name": "ipython",
    "version": 3
   },
   "file_extension": ".py",
   "mimetype": "text/x-python",
   "name": "python",
   "nbconvert_exporter": "python",
   "pygments_lexer": "ipython3",
   "version": "3.12.1"
  }
 },
 "nbformat": 4,
 "nbformat_minor": 5
}
